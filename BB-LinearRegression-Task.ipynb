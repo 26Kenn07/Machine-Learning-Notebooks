{
 "cells": [
  {
   "cell_type": "markdown",
   "id": "44b2ff5f",
   "metadata": {},
   "source": [
    "# Using all the features of the dataset predict the charge"
   ]
  },
  {
   "cell_type": "markdown",
   "id": "3c241001",
   "metadata": {},
   "source": [
    "# Importing Libraries"
   ]
  },
  {
   "cell_type": "code",
   "execution_count": 1,
   "id": "839e3e0b",
   "metadata": {},
   "outputs": [],
   "source": [
    "import numpy as np\n",
    "import pandas as pd\n",
    "import matplotlib.pyplot as plt\n",
    "import seaborn as sns"
   ]
  },
  {
   "cell_type": "markdown",
   "id": "a0cc38e9",
   "metadata": {},
   "source": [
    "# Reading Dataset"
   ]
  },
  {
   "cell_type": "code",
   "execution_count": 2,
   "id": "5c08a9f1",
   "metadata": {},
   "outputs": [],
   "source": [
    "df = pd.read_csv('/Users/kirtan/Downloads/insurance.csv')"
   ]
  },
  {
   "cell_type": "code",
   "execution_count": 3,
   "id": "ee1c75f6",
   "metadata": {},
   "outputs": [
    {
     "data": {
      "text/html": [
       "<div>\n",
       "<style scoped>\n",
       "    .dataframe tbody tr th:only-of-type {\n",
       "        vertical-align: middle;\n",
       "    }\n",
       "\n",
       "    .dataframe tbody tr th {\n",
       "        vertical-align: top;\n",
       "    }\n",
       "\n",
       "    .dataframe thead th {\n",
       "        text-align: right;\n",
       "    }\n",
       "</style>\n",
       "<table border=\"1\" class=\"dataframe\">\n",
       "  <thead>\n",
       "    <tr style=\"text-align: right;\">\n",
       "      <th></th>\n",
       "      <th>age</th>\n",
       "      <th>sex</th>\n",
       "      <th>bmi</th>\n",
       "      <th>children</th>\n",
       "      <th>smoker</th>\n",
       "      <th>region</th>\n",
       "      <th>charges</th>\n",
       "    </tr>\n",
       "  </thead>\n",
       "  <tbody>\n",
       "    <tr>\n",
       "      <th>0</th>\n",
       "      <td>19</td>\n",
       "      <td>female</td>\n",
       "      <td>27.900</td>\n",
       "      <td>0</td>\n",
       "      <td>yes</td>\n",
       "      <td>southwest</td>\n",
       "      <td>16884.92400</td>\n",
       "    </tr>\n",
       "    <tr>\n",
       "      <th>1</th>\n",
       "      <td>18</td>\n",
       "      <td>male</td>\n",
       "      <td>33.770</td>\n",
       "      <td>1</td>\n",
       "      <td>no</td>\n",
       "      <td>southeast</td>\n",
       "      <td>1725.55230</td>\n",
       "    </tr>\n",
       "    <tr>\n",
       "      <th>2</th>\n",
       "      <td>28</td>\n",
       "      <td>male</td>\n",
       "      <td>33.000</td>\n",
       "      <td>3</td>\n",
       "      <td>no</td>\n",
       "      <td>southeast</td>\n",
       "      <td>4449.46200</td>\n",
       "    </tr>\n",
       "    <tr>\n",
       "      <th>3</th>\n",
       "      <td>33</td>\n",
       "      <td>male</td>\n",
       "      <td>22.705</td>\n",
       "      <td>0</td>\n",
       "      <td>no</td>\n",
       "      <td>northwest</td>\n",
       "      <td>21984.47061</td>\n",
       "    </tr>\n",
       "    <tr>\n",
       "      <th>4</th>\n",
       "      <td>32</td>\n",
       "      <td>male</td>\n",
       "      <td>28.880</td>\n",
       "      <td>0</td>\n",
       "      <td>no</td>\n",
       "      <td>northwest</td>\n",
       "      <td>3866.85520</td>\n",
       "    </tr>\n",
       "  </tbody>\n",
       "</table>\n",
       "</div>"
      ],
      "text/plain": [
       "   age     sex     bmi  children smoker     region      charges\n",
       "0   19  female  27.900         0    yes  southwest  16884.92400\n",
       "1   18    male  33.770         1     no  southeast   1725.55230\n",
       "2   28    male  33.000         3     no  southeast   4449.46200\n",
       "3   33    male  22.705         0     no  northwest  21984.47061\n",
       "4   32    male  28.880         0     no  northwest   3866.85520"
      ]
     },
     "execution_count": 3,
     "metadata": {},
     "output_type": "execute_result"
    }
   ],
   "source": [
    "#Top 5 values of the dataset\n",
    "df.head()"
   ]
  },
  {
   "cell_type": "code",
   "execution_count": 4,
   "id": "79e41635",
   "metadata": {},
   "outputs": [
    {
     "data": {
      "text/plain": [
       "(1338, 7)"
      ]
     },
     "execution_count": 4,
     "metadata": {},
     "output_type": "execute_result"
    }
   ],
   "source": [
    "#Number of columns and rows of Dataset\n",
    "df.shape"
   ]
  },
  {
   "cell_type": "code",
   "execution_count": 5,
   "id": "3036e6c4",
   "metadata": {},
   "outputs": [
    {
     "name": "stdout",
     "output_type": "stream",
     "text": [
      "<class 'pandas.core.frame.DataFrame'>\n",
      "RangeIndex: 1338 entries, 0 to 1337\n",
      "Data columns (total 7 columns):\n",
      " #   Column    Non-Null Count  Dtype  \n",
      "---  ------    --------------  -----  \n",
      " 0   age       1338 non-null   int64  \n",
      " 1   sex       1338 non-null   object \n",
      " 2   bmi       1338 non-null   float64\n",
      " 3   children  1338 non-null   int64  \n",
      " 4   smoker    1338 non-null   object \n",
      " 5   region    1338 non-null   object \n",
      " 6   charges   1338 non-null   float64\n",
      "dtypes: float64(2), int64(2), object(3)\n",
      "memory usage: 73.3+ KB\n"
     ]
    }
   ],
   "source": [
    "# Display information about the DataFrame, including column names, data types, and memory usage\n",
    "df.info()"
   ]
  },
  {
   "cell_type": "code",
   "execution_count": 6,
   "id": "980ca04f",
   "metadata": {},
   "outputs": [],
   "source": [
    "#Converting bmi column into int\n",
    "df['bmi'] = df['bmi'].astype(int)"
   ]
  },
  {
   "cell_type": "code",
   "execution_count": 7,
   "id": "90e4be5c",
   "metadata": {},
   "outputs": [
    {
     "name": "stdout",
     "output_type": "stream",
     "text": [
      "<class 'pandas.core.frame.DataFrame'>\n",
      "RangeIndex: 1338 entries, 0 to 1337\n",
      "Data columns (total 7 columns):\n",
      " #   Column    Non-Null Count  Dtype  \n",
      "---  ------    --------------  -----  \n",
      " 0   age       1338 non-null   int64  \n",
      " 1   sex       1338 non-null   object \n",
      " 2   bmi       1338 non-null   int64  \n",
      " 3   children  1338 non-null   int64  \n",
      " 4   smoker    1338 non-null   object \n",
      " 5   region    1338 non-null   object \n",
      " 6   charges   1338 non-null   float64\n",
      "dtypes: float64(1), int64(3), object(3)\n",
      "memory usage: 73.3+ KB\n"
     ]
    }
   ],
   "source": [
    "df.info()"
   ]
  },
  {
   "cell_type": "code",
   "execution_count": 8,
   "id": "ccd10d62",
   "metadata": {},
   "outputs": [
    {
     "data": {
      "text/plain": [
       "age         0\n",
       "sex         0\n",
       "bmi         0\n",
       "children    0\n",
       "smoker      0\n",
       "region      0\n",
       "charges     0\n",
       "dtype: int64"
      ]
     },
     "execution_count": 8,
     "metadata": {},
     "output_type": "execute_result"
    }
   ],
   "source": [
    "#Checking for the null values\n",
    "df.isnull().sum()"
   ]
  },
  {
   "cell_type": "code",
   "execution_count": 9,
   "id": "f67fa02e",
   "metadata": {},
   "outputs": [
    {
     "data": {
      "text/plain": [
       "array(['southwest', 'southeast', 'northwest', 'northeast'], dtype=object)"
      ]
     },
     "execution_count": 9,
     "metadata": {},
     "output_type": "execute_result"
    }
   ],
   "source": [
    "#Checking for unique values in region column\n",
    "df['region'].unique()"
   ]
  },
  {
   "cell_type": "code",
   "execution_count": 10,
   "id": "9fe69128",
   "metadata": {},
   "outputs": [
    {
     "data": {
      "text/plain": [
       "array(['yes', 'no'], dtype=object)"
      ]
     },
     "execution_count": 10,
     "metadata": {},
     "output_type": "execute_result"
    }
   ],
   "source": [
    "#Checking for unique values in smoker column\n",
    "df['smoker'].unique()"
   ]
  },
  {
   "cell_type": "code",
   "execution_count": 11,
   "id": "218aee66",
   "metadata": {},
   "outputs": [
    {
     "data": {
      "text/plain": [
       "Text(0, 0.5, 'Charges')"
      ]
     },
     "execution_count": 11,
     "metadata": {},
     "output_type": "execute_result"
    },
    {
     "data": {
      "image/png": "[encoded data removed]",
      "text/plain": [
       "<Figure size 640x480 with 1 Axes>"
      ]
     },
     "metadata": {},
     "output_type": "display_data"
    }
   ],
   "source": [
    "#Creating a bar graph of Sex vs Charges\n",
    "plt.bar(df['sex'],df['charges'])\n",
    "plt.title('Sex vs Charges')\n",
    "plt.xlabel('Sex')\n",
    "plt.ylabel('Charges')"
   ]
  },
  {
   "cell_type": "code",
   "execution_count": 12,
   "id": "2a2a4828",
   "metadata": {},
   "outputs": [
    {
     "data": {
      "text/plain": [
       "Text(0.5, 1.0, 'Sex vs Charges')"
      ]
     },
     "execution_count": 12,
     "metadata": {},
     "output_type": "execute_result"
    },
    {
     "data": {
      "image/png": "[encoded data removed]",
      "text/plain": [
       "<Figure size 640x480 with 1 Axes>"
      ]
     },
     "metadata": {},
     "output_type": "display_data"
    }
   ],
   "source": [
    "# Calculate the total charges for each sex\n",
    "charges_by_sex = df.groupby('sex')['charges'].sum()\n",
    "\n",
    "# Create the pie chart\n",
    "plt.pie(charges_by_sex, labels=charges_by_sex.index, autopct='%1.1f%%')\n",
    "plt.title('Sex vs Charges')"
   ]
  },
  {
   "cell_type": "code",
   "execution_count": 13,
   "id": "3fa0f23f",
   "metadata": {},
   "outputs": [
    {
     "data": {
      "text/plain": [
       "Text(0, 0.5, 'Charges')"
      ]
     },
     "execution_count": 13,
     "metadata": {},
     "output_type": "execute_result"
    },
    {
     "data": {
      "image/png": "[encoded data removed]",
      "text/plain": [
       "<Figure size 640x480 with 1 Axes>"
      ]
     },
     "metadata": {},
     "output_type": "display_data"
    }
   ],
   "source": [
    "#Creating a bar graph of age vs Charges\n",
    "plt.bar(df['age'],df['charges'])\n",
    "plt.title('Age vs Charges')\n",
    "plt.xlabel('Age')\n",
    "plt.ylabel('Charges')"
   ]
  },
  {
   "cell_type": "code",
   "execution_count": 14,
   "id": "caa12f00",
   "metadata": {},
   "outputs": [
    {
     "data": {
      "text/plain": [
       "Text(0.5, 1.0, 'Region vs Charges')"
      ]
     },
     "execution_count": 14,
     "metadata": {},
     "output_type": "execute_result"
    },
    {
     "data": {
      "image/png": "[encoded data removed]",
      "text/plain": [
       "<Figure size 640x480 with 1 Axes>"
      ]
     },
     "metadata": {},
     "output_type": "display_data"
    }
   ],
   "source": [
    "# Calculate the total charges for each region\n",
    "charges_by_region = df.groupby('region')['charges'].sum()\n",
    "\n",
    "# Create the pie chart\n",
    "plt.pie(charges_by_region, labels=charges_by_region.index, autopct='%1.1f%%')\n",
    "plt.title('Region vs Charges')"
   ]
  },
  {
   "cell_type": "code",
   "execution_count": 15,
   "id": "e3027da1",
   "metadata": {},
   "outputs": [
    {
     "data": {
      "text/plain": [
       "Text(0, 0.5, 'Charges')"
      ]
     },
     "execution_count": 15,
     "metadata": {},
     "output_type": "execute_result"
    },
    {
     "data": {
      "image/png": "[encoded data removed]",
      "text/plain": [
       "<Figure size 640x480 with 1 Axes>"
      ]
     },
     "metadata": {},
     "output_type": "display_data"
    }
   ],
   "source": [
    "#Creating a bar graph of bmi vs Charges\n",
    "plt.scatter(df['bmi'],df['charges'])\n",
    "plt.title('bmi vs Charges')\n",
    "plt.xlabel('bmi')\n",
    "plt.ylabel('Charges')"
   ]
  },
  {
   "cell_type": "markdown",
   "id": "2ad8765a",
   "metadata": {},
   "source": [
    "# Converting Categorical variable into numeric values\n",
    "->Converting Sex column & Smoker column using Label Encoder\n",
    "\n",
    "->Converting Region column using One Hot Encoder"
   ]
  },
  {
   "cell_type": "code",
   "execution_count": 16,
   "id": "91b79984",
   "metadata": {},
   "outputs": [],
   "source": [
    "#Importing LabelEncoder & OneHotEncoder from sklearn.preprocessing\n",
    "from sklearn.preprocessing import LabelEncoder, OneHotEncoder"
   ]
  },
  {
   "cell_type": "code",
   "execution_count": 17,
   "id": "853ec8e1",
   "metadata": {},
   "outputs": [],
   "source": [
    "#Creating Objects of LabelEncoder & OneHotEncoder\n",
    "Le = LabelEncoder()\n",
    "OHE = OneHotEncoder(sparse=False, drop='first')"
   ]
  },
  {
   "cell_type": "markdown",
   "id": "b2b7265b",
   "metadata": {},
   "source": [
    "# LabelEncoder"
   ]
  },
  {
   "cell_type": "code",
   "execution_count": 18,
   "id": "35bea844",
   "metadata": {},
   "outputs": [],
   "source": [
    "df['smoker'] = Le.fit_transform(df['smoker'])"
   ]
  },
  {
   "cell_type": "code",
   "execution_count": 19,
   "id": "819d8e32",
   "metadata": {},
   "outputs": [],
   "source": [
    "df['sex'] = Le.fit_transform(df['sex'])"
   ]
  },
  {
   "cell_type": "markdown",
   "id": "215aa4ff",
   "metadata": {},
   "source": [
    "# OneHotEncoder"
   ]
  },
  {
   "cell_type": "code",
   "execution_count": 20,
   "id": "f774c1d3",
   "metadata": {},
   "outputs": [],
   "source": [
    "encoded_features = OHE.fit_transform(df[['region']])"
   ]
  },
  {
   "cell_type": "code",
   "execution_count": 21,
   "id": "a47543a2",
   "metadata": {},
   "outputs": [
    {
     "name": "stdout",
     "output_type": "stream",
     "text": [
      "['education_northwest' 'education_southeast' 'education_southwest']\n"
     ]
    },
    {
     "name": "stderr",
     "output_type": "stream",
     "text": [
      "/Users/kirtan/opt/anaconda3/lib/python3.9/site-packages/sklearn/utils/deprecation.py:87: FutureWarning: Function get_feature_names is deprecated; get_feature_names is deprecated in 1.0 and will be removed in 1.2. Please use get_feature_names_out instead.\n",
      "  warnings.warn(msg, category=FutureWarning)\n"
     ]
    }
   ],
   "source": [
    "new_columns = OHE.get_feature_names(['education'])\n",
    "print(new_columns)"
   ]
  },
  {
   "cell_type": "code",
   "execution_count": 22,
   "id": "57fc764d",
   "metadata": {},
   "outputs": [],
   "source": [
    "# Create a new DataFrame with the encoded features\n",
    "df_encoded = pd.DataFrame(encoded_features, columns=new_columns) "
   ]
  },
  {
   "cell_type": "code",
   "execution_count": 23,
   "id": "1a46da10",
   "metadata": {},
   "outputs": [],
   "source": [
    "# Concatenate the original DataFrame and the encoded DataFrame\n",
    "df = pd.concat([df,df_encoded],axis=1)"
   ]
  },
  {
   "cell_type": "code",
   "execution_count": 24,
   "id": "a8f30caa",
   "metadata": {},
   "outputs": [
    {
     "data": {
      "text/html": [
       "<div>\n",
       "<style scoped>\n",
       "    .dataframe tbody tr th:only-of-type {\n",
       "        vertical-align: middle;\n",
       "    }\n",
       "\n",
       "    .dataframe tbody tr th {\n",
       "        vertical-align: top;\n",
       "    }\n",
       "\n",
       "    .dataframe thead th {\n",
       "        text-align: right;\n",
       "    }\n",
       "</style>\n",
       "<table border=\"1\" class=\"dataframe\">\n",
       "  <thead>\n",
       "    <tr style=\"text-align: right;\">\n",
       "      <th></th>\n",
       "      <th>age</th>\n",
       "      <th>sex</th>\n",
       "      <th>bmi</th>\n",
       "      <th>children</th>\n",
       "      <th>smoker</th>\n",
       "      <th>region</th>\n",
       "      <th>charges</th>\n",
       "      <th>education_northwest</th>\n",
       "      <th>education_southeast</th>\n",
       "      <th>education_southwest</th>\n",
       "    </tr>\n",
       "  </thead>\n",
       "  <tbody>\n",
       "    <tr>\n",
       "      <th>0</th>\n",
       "      <td>19</td>\n",
       "      <td>0</td>\n",
       "      <td>27</td>\n",
       "      <td>0</td>\n",
       "      <td>1</td>\n",
       "      <td>southwest</td>\n",
       "      <td>16884.92400</td>\n",
       "      <td>0.0</td>\n",
       "      <td>0.0</td>\n",
       "      <td>1.0</td>\n",
       "    </tr>\n",
       "    <tr>\n",
       "      <th>1</th>\n",
       "      <td>18</td>\n",
       "      <td>1</td>\n",
       "      <td>33</td>\n",
       "      <td>1</td>\n",
       "      <td>0</td>\n",
       "      <td>southeast</td>\n",
       "      <td>1725.55230</td>\n",
       "      <td>0.0</td>\n",
       "      <td>1.0</td>\n",
       "      <td>0.0</td>\n",
       "    </tr>\n",
       "    <tr>\n",
       "      <th>2</th>\n",
       "      <td>28</td>\n",
       "      <td>1</td>\n",
       "      <td>33</td>\n",
       "      <td>3</td>\n",
       "      <td>0</td>\n",
       "      <td>southeast</td>\n",
       "      <td>4449.46200</td>\n",
       "      <td>0.0</td>\n",
       "      <td>1.0</td>\n",
       "      <td>0.0</td>\n",
       "    </tr>\n",
       "    <tr>\n",
       "      <th>3</th>\n",
       "      <td>33</td>\n",
       "      <td>1</td>\n",
       "      <td>22</td>\n",
       "      <td>0</td>\n",
       "      <td>0</td>\n",
       "      <td>northwest</td>\n",
       "      <td>21984.47061</td>\n",
       "      <td>1.0</td>\n",
       "      <td>0.0</td>\n",
       "      <td>0.0</td>\n",
       "    </tr>\n",
       "    <tr>\n",
       "      <th>4</th>\n",
       "      <td>32</td>\n",
       "      <td>1</td>\n",
       "      <td>28</td>\n",
       "      <td>0</td>\n",
       "      <td>0</td>\n",
       "      <td>northwest</td>\n",
       "      <td>3866.85520</td>\n",
       "      <td>1.0</td>\n",
       "      <td>0.0</td>\n",
       "      <td>0.0</td>\n",
       "    </tr>\n",
       "  </tbody>\n",
       "</table>\n",
       "</div>"
      ],
      "text/plain": [
       "   age  sex  bmi  children  smoker     region      charges  \\\n",
       "0   19    0   27         0       1  southwest  16884.92400   \n",
       "1   18    1   33         1       0  southeast   1725.55230   \n",
       "2   28    1   33         3       0  southeast   4449.46200   \n",
       "3   33    1   22         0       0  northwest  21984.47061   \n",
       "4   32    1   28         0       0  northwest   3866.85520   \n",
       "\n",
       "   education_northwest  education_southeast  education_southwest  \n",
       "0                  0.0                  0.0                  1.0  \n",
       "1                  0.0                  1.0                  0.0  \n",
       "2                  0.0                  1.0                  0.0  \n",
       "3                  1.0                  0.0                  0.0  \n",
       "4                  1.0                  0.0                  0.0  "
      ]
     },
     "execution_count": 24,
     "metadata": {},
     "output_type": "execute_result"
    }
   ],
   "source": [
    "df.head()"
   ]
  },
  {
   "cell_type": "code",
   "execution_count": 25,
   "id": "85577c2c",
   "metadata": {},
   "outputs": [],
   "source": [
    "df.drop(columns='region',axis=1,inplace=True)"
   ]
  },
  {
   "cell_type": "code",
   "execution_count": 26,
   "id": "fc5e8820",
   "metadata": {},
   "outputs": [
    {
     "data": {
      "text/html": [
       "<div>\n",
       "<style scoped>\n",
       "    .dataframe tbody tr th:only-of-type {\n",
       "        vertical-align: middle;\n",
       "    }\n",
       "\n",
       "    .dataframe tbody tr th {\n",
       "        vertical-align: top;\n",
       "    }\n",
       "\n",
       "    .dataframe thead th {\n",
       "        text-align: right;\n",
       "    }\n",
       "</style>\n",
       "<table border=\"1\" class=\"dataframe\">\n",
       "  <thead>\n",
       "    <tr style=\"text-align: right;\">\n",
       "      <th></th>\n",
       "      <th>age</th>\n",
       "      <th>sex</th>\n",
       "      <th>bmi</th>\n",
       "      <th>children</th>\n",
       "      <th>smoker</th>\n",
       "      <th>charges</th>\n",
       "      <th>education_northwest</th>\n",
       "      <th>education_southeast</th>\n",
       "      <th>education_southwest</th>\n",
       "    </tr>\n",
       "  </thead>\n",
       "  <tbody>\n",
       "    <tr>\n",
       "      <th>0</th>\n",
       "      <td>19</td>\n",
       "      <td>0</td>\n",
       "      <td>27</td>\n",
       "      <td>0</td>\n",
       "      <td>1</td>\n",
       "      <td>16884.92400</td>\n",
       "      <td>0.0</td>\n",
       "      <td>0.0</td>\n",
       "      <td>1.0</td>\n",
       "    </tr>\n",
       "    <tr>\n",
       "      <th>1</th>\n",
       "      <td>18</td>\n",
       "      <td>1</td>\n",
       "      <td>33</td>\n",
       "      <td>1</td>\n",
       "      <td>0</td>\n",
       "      <td>1725.55230</td>\n",
       "      <td>0.0</td>\n",
       "      <td>1.0</td>\n",
       "      <td>0.0</td>\n",
       "    </tr>\n",
       "    <tr>\n",
       "      <th>2</th>\n",
       "      <td>28</td>\n",
       "      <td>1</td>\n",
       "      <td>33</td>\n",
       "      <td>3</td>\n",
       "      <td>0</td>\n",
       "      <td>4449.46200</td>\n",
       "      <td>0.0</td>\n",
       "      <td>1.0</td>\n",
       "      <td>0.0</td>\n",
       "    </tr>\n",
       "    <tr>\n",
       "      <th>3</th>\n",
       "      <td>33</td>\n",
       "      <td>1</td>\n",
       "      <td>22</td>\n",
       "      <td>0</td>\n",
       "      <td>0</td>\n",
       "      <td>21984.47061</td>\n",
       "      <td>1.0</td>\n",
       "      <td>0.0</td>\n",
       "      <td>0.0</td>\n",
       "    </tr>\n",
       "    <tr>\n",
       "      <th>4</th>\n",
       "      <td>32</td>\n",
       "      <td>1</td>\n",
       "      <td>28</td>\n",
       "      <td>0</td>\n",
       "      <td>0</td>\n",
       "      <td>3866.85520</td>\n",
       "      <td>1.0</td>\n",
       "      <td>0.0</td>\n",
       "      <td>0.0</td>\n",
       "    </tr>\n",
       "  </tbody>\n",
       "</table>\n",
       "</div>"
      ],
      "text/plain": [
       "   age  sex  bmi  children  smoker      charges  education_northwest  \\\n",
       "0   19    0   27         0       1  16884.92400                  0.0   \n",
       "1   18    1   33         1       0   1725.55230                  0.0   \n",
       "2   28    1   33         3       0   4449.46200                  0.0   \n",
       "3   33    1   22         0       0  21984.47061                  1.0   \n",
       "4   32    1   28         0       0   3866.85520                  1.0   \n",
       "\n",
       "   education_southeast  education_southwest  \n",
       "0                  0.0                  1.0  \n",
       "1                  1.0                  0.0  \n",
       "2                  1.0                  0.0  \n",
       "3                  0.0                  0.0  \n",
       "4                  0.0                  0.0  "
      ]
     },
     "execution_count": 26,
     "metadata": {},
     "output_type": "execute_result"
    }
   ],
   "source": [
    "df.head()"
   ]
  },
  {
   "cell_type": "code",
   "execution_count": 27,
   "id": "45c47389",
   "metadata": {},
   "outputs": [
    {
     "data": {
      "text/plain": [
       "Index(['age', 'sex', 'bmi', 'children', 'smoker', 'charges',\n",
       "       'education_northwest', 'education_southeast', 'education_southwest'],\n",
       "      dtype='object')"
      ]
     },
     "execution_count": 27,
     "metadata": {},
     "output_type": "execute_result"
    }
   ],
   "source": [
    "#Checking the name of the total columns present in df\n",
    "df.columns"
   ]
  },
  {
   "cell_type": "markdown",
   "id": "18f0a66b",
   "metadata": {},
   "source": [
    "# Creating the independent variable(X) and dependent variable(y)"
   ]
  },
  {
   "cell_type": "code",
   "execution_count": 28,
   "id": "67df5c25",
   "metadata": {},
   "outputs": [],
   "source": [
    "# Extract features (X) and target variable (y)\n",
    "X = df[['age', 'sex', 'bmi', 'children', 'smoker', 'education_northwest', 'education_southeast', 'education_southwest']]\n",
    "y = df['charges']"
   ]
  },
  {
   "cell_type": "code",
   "execution_count": 29,
   "id": "edfeccd6",
   "metadata": {},
   "outputs": [],
   "source": [
    "# Convert X and y to numpy arrays\n",
    "X = np.array(X)\n",
    "y = np.array(y)"
   ]
  },
  {
   "cell_type": "markdown",
   "id": "822fc38f",
   "metadata": {},
   "source": [
    "# Splitting the data set into train and test using train_test_split from sklearn.model_selection"
   ]
  },
  {
   "cell_type": "code",
   "execution_count": 30,
   "id": "45ad86b4",
   "metadata": {},
   "outputs": [],
   "source": [
    "from sklearn.model_selection import train_test_split"
   ]
  },
  {
   "cell_type": "markdown",
   "id": "7521a9ab",
   "metadata": {},
   "source": [
    "Creating X_train,X_test,y_train and y_test we will set test_size = 0.2 so 20% of the actual data will be used as test data"
   ]
  },
  {
   "cell_type": "code",
   "execution_count": 31,
   "id": "a2398bf7",
   "metadata": {},
   "outputs": [],
   "source": [
    "X_train,X_test,y_train,y_test = train_test_split(X,y,test_size=0.2)"
   ]
  },
  {
   "cell_type": "code",
   "execution_count": 32,
   "id": "2a375c97",
   "metadata": {},
   "outputs": [
    {
     "name": "stdout",
     "output_type": "stream",
     "text": [
      "X_train_shape:  (1070, 8)\n",
      "y_train_shape:  (1070,)\n",
      "X_test_shape:  (268, 8)\n",
      "y_test_shape:  (268,)\n"
     ]
    }
   ],
   "source": [
    "print('X_train_shape: ',X_train.shape)\n",
    "print('y_train_shape: ',y_train.shape)\n",
    "print('X_test_shape: ',X_test.shape)\n",
    "print('y_test_shape: ',y_test.shape)"
   ]
  },
  {
   "cell_type": "markdown",
   "id": "8c1f4cd3",
   "metadata": {},
   "source": [
    "# Standardising the data using StandardScaler"
   ]
  },
  {
   "cell_type": "code",
   "execution_count": 34,
   "id": "4b58103c",
   "metadata": {},
   "outputs": [],
   "source": [
    "from sklearn.preprocessing import StandardScaler"
   ]
  },
  {
   "cell_type": "code",
   "execution_count": 35,
   "id": "60669102",
   "metadata": {},
   "outputs": [],
   "source": [
    "#Creating the object of StandardScaler\n",
    "SD = StandardScaler()"
   ]
  },
  {
   "cell_type": "code",
   "execution_count": 36,
   "id": "75b8ce26",
   "metadata": {},
   "outputs": [],
   "source": [
    "X_train_SD = SD.fit_transform(X_train)"
   ]
  },
  {
   "cell_type": "code",
   "execution_count": 37,
   "id": "81823341",
   "metadata": {},
   "outputs": [],
   "source": [
    "X_test_SD = SD.transform(X_test)"
   ]
  },
  {
   "cell_type": "code",
   "execution_count": null,
   "id": "d66f771d",
   "metadata": {},
   "outputs": [],
   "source": []
  },
  {
   "cell_type": "code",
   "execution_count": 38,
   "id": "4ba9c372",
   "metadata": {},
   "outputs": [],
   "source": [
    "X_mean = X_train_SD.mean(axis=0)"
   ]
  },
  {
   "cell_type": "code",
   "execution_count": 39,
   "id": "5b90cf1b",
   "metadata": {},
   "outputs": [],
   "source": [
    "y_mean = y_train.mean(axis=0)"
   ]
  },
  {
   "cell_type": "code",
   "execution_count": 40,
   "id": "f3a96cb4",
   "metadata": {},
   "outputs": [
    {
     "name": "stdout",
     "output_type": "stream",
     "text": [
      "Coff: [3741.07883706  441.19207154 2171.88150013 1008.00169753 9362.70498353\n",
      " -477.70510637  806.26463259 -574.48668102]\n",
      "Intercept: [13023.82592071 13023.82592071 13023.82592071 13023.82592071\n",
      " 13023.82592071 13023.82592071 13023.82592071 13023.82592071]\n"
     ]
    }
   ],
   "source": [
    "num = 0\n",
    "dim = 0\n",
    "epsilon = 1e-8  \n",
    "for i in range(len(X_train_SD)):\n",
    "    num += (X_train_SD[i] - X_mean) * (y_train[i] - y_mean)\n",
    "    dim += (X_train_SD[i] - X_mean) ** 2\n",
    "\n",
    "coff = num / (dim + epsilon)\n",
    "inter = y_mean - (coff * X_mean)\n",
    "print('Coff:', coff)\n",
    "print('Intercept:', inter)"
   ]
  },
  {
   "cell_type": "code",
   "execution_count": 41,
   "id": "17bea143",
   "metadata": {},
   "outputs": [
    {
     "name": "stdout",
     "output_type": "stream",
     "text": [
      "y: [ 54175.69312841  17876.9387077   36914.52242213  24111.84459358\n",
      " 116013.58073953   7769.06975068  21892.73687925   6704.47242953]\n",
      "z: [ 3.57826639e+08  4.22106189e+07  2.07741544e+08  9.64228422e+07\n",
      "  8.95504261e+08 -4.56768422e+07  7.71278015e+07 -5.49334675e+07]\n"
     ]
    }
   ],
   "source": [
    "m = coff\n",
    "c = inter\n",
    "y = m * 11 + c\n",
    "z = m * 95644.50 + c\n",
    "print('y:', y)\n",
    "print('z:', z)"
   ]
  },
  {
   "cell_type": "code",
   "execution_count": 42,
   "id": "f2523548",
   "metadata": {},
   "outputs": [
    {
     "name": "stdout",
     "output_type": "stream",
     "text": [
      "Mean Squared Error (MSE): 236204655.52704588\n",
      "Mean Absolute Error (MAE): 13935.893054169248\n",
      "R-squared: -0.5015624562010752\n"
     ]
    }
   ],
   "source": [
    "# Evaluate the model on the test set\n",
    "y_pred = X_test_SD.dot(coff)\n",
    "mse = np.mean((y_pred - y_test) ** 2)\n",
    "mae = np.mean(np.abs(y_pred - y_test))\n",
    "r2 = 1 - (np.sum((y_test - y_pred) ** 2) / np.sum((y_test - y_test.mean()) ** 2))\n",
    "\n",
    "print('Mean Squared Error (MSE):', mse)\n",
    "print('Mean Absolute Error (MAE):', mae)\n",
    "print('R-squared:', r2)"
   ]
  },
  {
   "cell_type": "code",
   "execution_count": 43,
   "id": "0bc4bb3b",
   "metadata": {},
   "outputs": [
    {
     "data": {
      "image/png": "[encoded data removed]",
      "text/plain": [
       "<Figure size 640x480 with 1 Axes>"
      ]
     },
     "metadata": {},
     "output_type": "display_data"
    }
   ],
   "source": [
    "# Visualize the results\n",
    "plt.scatter(y_test, y_pred)\n",
    "plt.plot([y_test.min(), y_test.max()], [y_test.min(), y_test.max()], 'r--')\n",
    "plt.xlabel('Actual Charges')\n",
    "plt.ylabel('Predicted Charges')\n",
    "plt.title('Linear Regression - Actual vs. Predicted Charges')\n",
    "plt.show()"
   ]
  },
  {
   "cell_type": "code",
   "execution_count": null,
   "id": "3dcfd0c0",
   "metadata": {},
   "outputs": [],
   "source": []
  },
  {
   "cell_type": "code",
   "execution_count": null,
   "id": "c8abfed4",
   "metadata": {},
   "outputs": [],
   "source": []
  }
 ],
 "metadata": {
  "kernelspec": {
   "display_name": "Python 3 (ipykernel)",
   "language": "python",
   "name": "python3"
  },
  "language_info": {
   "codemirror_mode": {
    "name": "ipython",
    "version": 3
   },
   "file_extension": ".py",
   "mimetype": "text/x-python",
   "name": "python",
   "nbconvert_exporter": "python",
   "pygments_lexer": "ipython3",
   "version": "3.9.13"
  }
 },
 "nbformat": 4,
 "nbformat_minor": 5
}
